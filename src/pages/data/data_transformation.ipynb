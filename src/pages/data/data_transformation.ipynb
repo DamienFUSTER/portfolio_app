{
 "cells": [
  {
   "cell_type": "code",
   "id": "initial_id",
   "metadata": {
    "collapsed": true,
    "ExecuteTime": {
     "end_time": "2024-05-27T13:02:09.447106Z",
     "start_time": "2024-05-27T13:02:09.284793Z"
    }
   },
   "source": [
    "import pandas as pd\n",
    "import plotly.express as px\n",
    "\n",
    "df = pd.read_excel(\"database.xlsx\")\n",
    "df"
   ],
   "outputs": [
    {
     "data": {
      "text/plain": [
       "                Grande_partie  \\\n",
       "0                 Généralités   \n",
       "1                 Généralités   \n",
       "2                 Généralités   \n",
       "3                 Généralités   \n",
       "4                 Généralités   \n",
       "5                 Généralités   \n",
       "6                 Généralités   \n",
       "7                 Généralités   \n",
       "8                 Généralités   \n",
       "9                 Généralités   \n",
       "10                Généralités   \n",
       "11                Généralités   \n",
       "12                Généralités   \n",
       "13                Généralités   \n",
       "14                Généralités   \n",
       "15                Généralités   \n",
       "16              Interculture    \n",
       "17              Interculture    \n",
       "18              Interculture    \n",
       "19              Interculture    \n",
       "20              Interculture    \n",
       "21              Interculture    \n",
       "22              Interculture    \n",
       "23              Fertilisation   \n",
       "24              Fertilisation   \n",
       "25              Fertilisation   \n",
       "26              Fertilisation   \n",
       "27              Fertilisation   \n",
       "28              Fertilisation   \n",
       "29              Fertilisation   \n",
       "30              Fertilisation   \n",
       "31              Fertilisation   \n",
       "32              Fertilisation   \n",
       "33              Fertilisation   \n",
       "34              Fertilisation   \n",
       "35              Fertilisation   \n",
       "36  Protection phytosanitaire   \n",
       "37  Protection phytosanitaire   \n",
       "38  Protection phytosanitaire   \n",
       "39  Protection phytosanitaire   \n",
       "40  Protection phytosanitaire   \n",
       "41  Protection phytosanitaire   \n",
       "42  Protection phytosanitaire   \n",
       "43  Protection phytosanitaire   \n",
       "44  Protection phytosanitaire   \n",
       "45  Protection phytosanitaire   \n",
       "46  Protection phytosanitaire   \n",
       "47  Protection phytosanitaire   \n",
       "48  Protection phytosanitaire   \n",
       "49  Protection phytosanitaire   \n",
       "50  Protection phytosanitaire   \n",
       "51  Protection phytosanitaire   \n",
       "52  Protection phytosanitaire   \n",
       "53  Protection phytosanitaire   \n",
       "54  Protection phytosanitaire   \n",
       "\n",
       "                                               partie  \\\n",
       "0                       Nombre de parcelles enquêtées   \n",
       "1   Répartition des surfaces extrapolées par dépar...   \n",
       "2   Répartition des surfaces extrapolées par dépar...   \n",
       "3   Répartition des surfaces extrapolées par dépar...   \n",
       "4   Répartition des surfaces extrapolées par dépar...   \n",
       "5   Répartition des surfaces extrapolées par dépar...   \n",
       "6   Répartition des surfaces extrapolées par dépar...   \n",
       "7   Répartition des surfaces extrapolées par dépar...   \n",
       "8   Répartition des surfaces extrapolées par dépar...   \n",
       "9                           Surfaces extrapolées (ha)   \n",
       "10             Surface de la culture (données SAA-ha)   \n",
       "11          Part surface extrapolée / Surface SAA (%)   \n",
       "12                        Rendement aux normes (q/ha)   \n",
       "13                 Objectif de rendement moyen (q/ha)   \n",
       "14   Part surfaces irriguées (% de la sole implantée)   \n",
       "15  Part des surfaces conduites en agriculture bio...   \n",
       "16       Implantation-Semis (% de la sole implantée)    \n",
       "17       Implantation-Semis (% de la sole implantée)    \n",
       "18         Couverture du sol (% de la sole implantée)   \n",
       "19         Couverture du sol (% de la sole implantée)   \n",
       "20         Couverture du sol (% de la sole implantée)   \n",
       "21         Couverture du sol (% de la sole implantée)   \n",
       "22         Couverture du sol (% de la sole implantée)   \n",
       "23                     Fertilisation minérale azotée    \n",
       "24                     Fertilisation minérale azotée    \n",
       "25                     Fertilisation minérale azotée    \n",
       "26                     Fertilisation minérale azotée    \n",
       "27                    Fertilisation phosphore minéral   \n",
       "28                    Fertilisation phosphore minéral   \n",
       "29                    Fertilisation phosphore minéral   \n",
       "30                      Fertilisation potasse minéral   \n",
       "31                      Fertilisation potasse minéral   \n",
       "32                      Fertilisation potasse minéral   \n",
       "33                        Fertlisation soufre minéral   \n",
       "34                                   Fumure organique   \n",
       "35                                 Sans fertilisation   \n",
       "36  Surfaces ayant reçu un traitement (% de la sol...   \n",
       "37  Surfaces ayant reçu un traitement (% de la sol...   \n",
       "38  Surfaces ayant reçu un traitement (% de la sol...   \n",
       "39  Surfaces ayant reçu un traitement (% de la sol...   \n",
       "40      Nombre moyen de passages (parcelles traitées)   \n",
       "41      Nombre moyen de passages (parcelles traitées)   \n",
       "42      Nombre moyen de passages (parcelles traitées)   \n",
       "43      Nombre moyen de passages (parcelles traitées)   \n",
       "44  Nombre moyen de produits appliqués (parcelles ...   \n",
       "45  Nombre moyen de produits appliqués (parcelles ...   \n",
       "46  Nombre moyen de produits appliqués (parcelles ...   \n",
       "47  Nombre moyen de produits appliqués (parcelles ...   \n",
       "48  IFT moyen (parcelles ayant au moins un traitem...   \n",
       "49  IFT moyen (parcelles ayant au moins un traitem...   \n",
       "50  IFT moyen (parcelles ayant au moins un traitem...   \n",
       "51  IFT moyen (parcelles ayant au moins un traitem...   \n",
       "52  IFT moyen (parcelles ayant au moins un traitem...   \n",
       "53  IFT moyen (parcelles ayant au moins un traitem...   \n",
       "54  IFT Percentile 70 (Parcelles ayant au moins un...   \n",
       "\n",
       "                                          sous partie           1994  \\\n",
       "0                       Nombre de parcelles enquêtées     154.000000   \n",
       "1                                              Ariège            NaN   \n",
       "2                                             Aveyron       1.948072   \n",
       "3                                       Haute Garonne      17.532253   \n",
       "4                                                Gers      35.714309   \n",
       "5                                                 Lot            NaN   \n",
       "6                                     Hautes Pyrénées      18.831372   \n",
       "7                                                Tarn       6.493528   \n",
       "8                                     Tarn et Garonne      19.480465   \n",
       "9                           Surfaces extrapolées (ha)  202342.000000   \n",
       "10             Surface de la culture (données SAA-ha)  207877.000000   \n",
       "11          Part surface extrapolée / Surface SAA (%)      97.000000   \n",
       "12                        Rendement aux normes (q/ha)      76.000000   \n",
       "13                 Objectif de rendement moyen (q/ha)      91.000000   \n",
       "14   Part surfaces irriguées (% de la sole implantée)      66.000000   \n",
       "15  Part des surfaces conduites en agriculture bio...            NaN   \n",
       "16                                             labour      96.753279   \n",
       "17                                       semis direct       0.000000   \n",
       "18                          par culture intermédiaire       0.000000   \n",
       "19                                par culture dérobée            NaN   \n",
       "20            par des repousses du précédent cultural            NaN   \n",
       "21  par des résidus du précédent laissés sur place...            NaN   \n",
       "22  par des résidus du précédent laissés sur place...            NaN   \n",
       "23                    part des surfaces fertilisées %      99.350455   \n",
       "24                             nombre moyen d'apport        2.019604   \n",
       "25                              dose moyenne (kg/ha)      187.999606   \n",
       "26  dose d'Azote minéral rapportée au rendement (k...       2.751030   \n",
       "27                    part des surfaces fertilisées %      93.506257   \n",
       "28                             nombre moyen d'apport             NaN   \n",
       "29                              dose moyenne (kg/ha)      105.131960   \n",
       "30                    part des surfaces fertilisées %      90.259499   \n",
       "31                             nombre moyen d'apport             NaN   \n",
       "32                              dose moyenne (kg/ha)      111.064795   \n",
       "33                    part des surfaces fertilisées %            NaN   \n",
       "34                    part des surfaces fertilisées %      20.779360   \n",
       "35                part des surfaces non fertilisées %       0.000000   \n",
       "36                                         herbicides     100.000000   \n",
       "37                                         fongicides       1.948044   \n",
       "38                                       insecticides      55.194651   \n",
       "39                             au moins un traitement     100.000000   \n",
       "40                                         herbicides            NaN   \n",
       "41                                         fongicides            NaN   \n",
       "42                                       insecticides            NaN   \n",
       "43                           ensemble des traitements            NaN   \n",
       "44                                         herbicides       1.305196   \n",
       "45                                         fongicides            NaN   \n",
       "46                                       insecticides       1.058824   \n",
       "47                           ensemble des traitements            NaN   \n",
       "48                                   Hors biocontrôle            NaN   \n",
       "49                                        Biocontrôle            NaN   \n",
       "50                                         herbicides            NaN   \n",
       "51                                         fongicides            NaN   \n",
       "52                                       insecticides            NaN   \n",
       "53        ensemble des traitements y compris semences            NaN   \n",
       "54        ensemble des traitements y compris semences            NaN   \n",
       "\n",
       "             2001           2006           2011           2014           2017  \n",
       "0      292.000000     178.000000     167.000000     162.000000     205.000000  \n",
       "1        3.788590            NaN            NaN            NaN            NaN  \n",
       "2        1.191862            NaN            NaN            NaN            NaN  \n",
       "3       16.155737      18.662009      22.688147      15.494715      18.362422  \n",
       "4       35.354495      41.390248      47.520217      33.751452      34.251982  \n",
       "5        3.436441            NaN            NaN            NaN            NaN  \n",
       "6       20.870308      27.275312      14.207360      34.406484      27.344369  \n",
       "7        4.843884            NaN            NaN       6.838760       6.777586  \n",
       "8       14.358683      12.672430      15.584276       9.494198      13.263642  \n",
       "9   194970.000000  139320.000000  140464.000000  137109.000000  131872.370001  \n",
       "10  216410.000000  164137.000000  149796.000000  149975.000000  142400.000000  \n",
       "11      90.000000      85.000000      94.000000      91.000000      92.607001  \n",
       "12      89.000000      97.000000     101.000000     103.851857     100.801953  \n",
       "13     100.000000     106.000000     100.000000     102.000000     102.258730  \n",
       "14      72.770000      77.710000      81.600000      62.720000      58.563002  \n",
       "15       0.630000       0.000000       1.750000       3.260000       0.536112  \n",
       "16      97.364488      79.084153      75.298593      69.469492      59.173250  \n",
       "17       0.506539       0.000000       0.000000       0.336882       1.593265  \n",
       "18       1.928978       3.288721       0.899343       1.628046      16.616037  \n",
       "19            NaN            NaN       2.156822       0.826045       1.973300  \n",
       "20       6.448523       2.578074       6.362962       4.313994       6.857757  \n",
       "21            NaN            NaN      55.975233      64.533451      64.189061  \n",
       "22            NaN            NaN      30.814454      21.811844      20.937539  \n",
       "23      99.072457     100.000258      96.903673      98.427549      98.327783  \n",
       "24       2.213176       2.150364       2.089188       2.391384       2.418374  \n",
       "25     188.890256     187.780627     184.318917     191.824876     181.579293  \n",
       "26       2.205092       2.069070       2.203707       2.272202       1.900000  \n",
       "27      92.842643      93.967111      80.543282      84.327471      89.414871  \n",
       "28       1.277731       1.297691       1.234784            NaN       1.282241  \n",
       "29      84.880673      74.412191      69.164579            NaN      63.035964  \n",
       "30      86.823468      80.533373      61.977070      71.691661      70.855841  \n",
       "31       1.047092       1.056562       1.015498            NaN       1.066659  \n",
       "32      89.368996      79.765485      63.871714            NaN      66.976742  \n",
       "33            NaN            NaN       7.301149      15.169606      17.440802  \n",
       "34      19.308540      17.135202      21.333368      16.208162      14.970778  \n",
       "35       0.063663       0.000000       0.000000       0.224542       0.087262  \n",
       "36      98.587790      98.504578      96.571505      97.633489      99.115628  \n",
       "37       1.295840       0.000000       4.403197       0.000000       2.098540  \n",
       "38      31.672599      54.370028      15.847442      30.505899      30.001434  \n",
       "39      99.255579     100.000000      96.571505      97.703732      99.115628  \n",
       "40            NaN       1.530092       1.818920       1.691886       1.524701  \n",
       "41            NaN       0.000000            NaN            NaN            NaN  \n",
       "42            NaN       1.067863            NaN       1.072305       1.000000  \n",
       "43            NaN       2.408720       2.344119       2.431130       2.136559  \n",
       "44       2.193003       2.253704       2.324536       2.414791       2.237279  \n",
       "45            NaN       0.000000            NaN            NaN            NaN  \n",
       "46       1.149019       1.080130            NaN       1.100557       1.000000  \n",
       "47            NaN       3.361612       2.975984       3.358074       2.900511  \n",
       "48            NaN            NaN       2.926433       3.070955       2.635363  \n",
       "49            NaN            NaN            NaN            NaN            NaN  \n",
       "50            NaN            NaN       1.500988       1.546090       1.419355  \n",
       "51            NaN            NaN            NaN            NaN            NaN  \n",
       "52            NaN            NaN            NaN       0.282771       0.265081  \n",
       "53            NaN            NaN       2.926433       3.070955       2.652146  \n",
       "54            NaN            NaN       3.400000       3.500000       3.099000  "
      ],
      "text/html": [
       "<div>\n",
       "<style scoped>\n",
       "    .dataframe tbody tr th:only-of-type {\n",
       "        vertical-align: middle;\n",
       "    }\n",
       "\n",
       "    .dataframe tbody tr th {\n",
       "        vertical-align: top;\n",
       "    }\n",
       "\n",
       "    .dataframe thead th {\n",
       "        text-align: right;\n",
       "    }\n",
       "</style>\n",
       "<table border=\"1\" class=\"dataframe\">\n",
       "  <thead>\n",
       "    <tr style=\"text-align: right;\">\n",
       "      <th></th>\n",
       "      <th>Grande_partie</th>\n",
       "      <th>partie</th>\n",
       "      <th>sous partie</th>\n",
       "      <th>1994</th>\n",
       "      <th>2001</th>\n",
       "      <th>2006</th>\n",
       "      <th>2011</th>\n",
       "      <th>2014</th>\n",
       "      <th>2017</th>\n",
       "    </tr>\n",
       "  </thead>\n",
       "  <tbody>\n",
       "    <tr>\n",
       "      <th>0</th>\n",
       "      <td>Généralités</td>\n",
       "      <td>Nombre de parcelles enquêtées</td>\n",
       "      <td>Nombre de parcelles enquêtées</td>\n",
       "      <td>154.000000</td>\n",
       "      <td>292.000000</td>\n",
       "      <td>178.000000</td>\n",
       "      <td>167.000000</td>\n",
       "      <td>162.000000</td>\n",
       "      <td>205.000000</td>\n",
       "    </tr>\n",
       "    <tr>\n",
       "      <th>1</th>\n",
       "      <td>Généralités</td>\n",
       "      <td>Répartition des surfaces extrapolées par dépar...</td>\n",
       "      <td>Ariège</td>\n",
       "      <td>NaN</td>\n",
       "      <td>3.788590</td>\n",
       "      <td>NaN</td>\n",
       "      <td>NaN</td>\n",
       "      <td>NaN</td>\n",
       "      <td>NaN</td>\n",
       "    </tr>\n",
       "    <tr>\n",
       "      <th>2</th>\n",
       "      <td>Généralités</td>\n",
       "      <td>Répartition des surfaces extrapolées par dépar...</td>\n",
       "      <td>Aveyron</td>\n",
       "      <td>1.948072</td>\n",
       "      <td>1.191862</td>\n",
       "      <td>NaN</td>\n",
       "      <td>NaN</td>\n",
       "      <td>NaN</td>\n",
       "      <td>NaN</td>\n",
       "    </tr>\n",
       "    <tr>\n",
       "      <th>3</th>\n",
       "      <td>Généralités</td>\n",
       "      <td>Répartition des surfaces extrapolées par dépar...</td>\n",
       "      <td>Haute Garonne</td>\n",
       "      <td>17.532253</td>\n",
       "      <td>16.155737</td>\n",
       "      <td>18.662009</td>\n",
       "      <td>22.688147</td>\n",
       "      <td>15.494715</td>\n",
       "      <td>18.362422</td>\n",
       "    </tr>\n",
       "    <tr>\n",
       "      <th>4</th>\n",
       "      <td>Généralités</td>\n",
       "      <td>Répartition des surfaces extrapolées par dépar...</td>\n",
       "      <td>Gers</td>\n",
       "      <td>35.714309</td>\n",
       "      <td>35.354495</td>\n",
       "      <td>41.390248</td>\n",
       "      <td>47.520217</td>\n",
       "      <td>33.751452</td>\n",
       "      <td>34.251982</td>\n",
       "    </tr>\n",
       "    <tr>\n",
       "      <th>5</th>\n",
       "      <td>Généralités</td>\n",
       "      <td>Répartition des surfaces extrapolées par dépar...</td>\n",
       "      <td>Lot</td>\n",
       "      <td>NaN</td>\n",
       "      <td>3.436441</td>\n",
       "      <td>NaN</td>\n",
       "      <td>NaN</td>\n",
       "      <td>NaN</td>\n",
       "      <td>NaN</td>\n",
       "    </tr>\n",
       "    <tr>\n",
       "      <th>6</th>\n",
       "      <td>Généralités</td>\n",
       "      <td>Répartition des surfaces extrapolées par dépar...</td>\n",
       "      <td>Hautes Pyrénées</td>\n",
       "      <td>18.831372</td>\n",
       "      <td>20.870308</td>\n",
       "      <td>27.275312</td>\n",
       "      <td>14.207360</td>\n",
       "      <td>34.406484</td>\n",
       "      <td>27.344369</td>\n",
       "    </tr>\n",
       "    <tr>\n",
       "      <th>7</th>\n",
       "      <td>Généralités</td>\n",
       "      <td>Répartition des surfaces extrapolées par dépar...</td>\n",
       "      <td>Tarn</td>\n",
       "      <td>6.493528</td>\n",
       "      <td>4.843884</td>\n",
       "      <td>NaN</td>\n",
       "      <td>NaN</td>\n",
       "      <td>6.838760</td>\n",
       "      <td>6.777586</td>\n",
       "    </tr>\n",
       "    <tr>\n",
       "      <th>8</th>\n",
       "      <td>Généralités</td>\n",
       "      <td>Répartition des surfaces extrapolées par dépar...</td>\n",
       "      <td>Tarn et Garonne</td>\n",
       "      <td>19.480465</td>\n",
       "      <td>14.358683</td>\n",
       "      <td>12.672430</td>\n",
       "      <td>15.584276</td>\n",
       "      <td>9.494198</td>\n",
       "      <td>13.263642</td>\n",
       "    </tr>\n",
       "    <tr>\n",
       "      <th>9</th>\n",
       "      <td>Généralités</td>\n",
       "      <td>Surfaces extrapolées (ha)</td>\n",
       "      <td>Surfaces extrapolées (ha)</td>\n",
       "      <td>202342.000000</td>\n",
       "      <td>194970.000000</td>\n",
       "      <td>139320.000000</td>\n",
       "      <td>140464.000000</td>\n",
       "      <td>137109.000000</td>\n",
       "      <td>131872.370001</td>\n",
       "    </tr>\n",
       "    <tr>\n",
       "      <th>10</th>\n",
       "      <td>Généralités</td>\n",
       "      <td>Surface de la culture (données SAA-ha)</td>\n",
       "      <td>Surface de la culture (données SAA-ha)</td>\n",
       "      <td>207877.000000</td>\n",
       "      <td>216410.000000</td>\n",
       "      <td>164137.000000</td>\n",
       "      <td>149796.000000</td>\n",
       "      <td>149975.000000</td>\n",
       "      <td>142400.000000</td>\n",
       "    </tr>\n",
       "    <tr>\n",
       "      <th>11</th>\n",
       "      <td>Généralités</td>\n",
       "      <td>Part surface extrapolée / Surface SAA (%)</td>\n",
       "      <td>Part surface extrapolée / Surface SAA (%)</td>\n",
       "      <td>97.000000</td>\n",
       "      <td>90.000000</td>\n",
       "      <td>85.000000</td>\n",
       "      <td>94.000000</td>\n",
       "      <td>91.000000</td>\n",
       "      <td>92.607001</td>\n",
       "    </tr>\n",
       "    <tr>\n",
       "      <th>12</th>\n",
       "      <td>Généralités</td>\n",
       "      <td>Rendement aux normes (q/ha)</td>\n",
       "      <td>Rendement aux normes (q/ha)</td>\n",
       "      <td>76.000000</td>\n",
       "      <td>89.000000</td>\n",
       "      <td>97.000000</td>\n",
       "      <td>101.000000</td>\n",
       "      <td>103.851857</td>\n",
       "      <td>100.801953</td>\n",
       "    </tr>\n",
       "    <tr>\n",
       "      <th>13</th>\n",
       "      <td>Généralités</td>\n",
       "      <td>Objectif de rendement moyen (q/ha)</td>\n",
       "      <td>Objectif de rendement moyen (q/ha)</td>\n",
       "      <td>91.000000</td>\n",
       "      <td>100.000000</td>\n",
       "      <td>106.000000</td>\n",
       "      <td>100.000000</td>\n",
       "      <td>102.000000</td>\n",
       "      <td>102.258730</td>\n",
       "    </tr>\n",
       "    <tr>\n",
       "      <th>14</th>\n",
       "      <td>Généralités</td>\n",
       "      <td>Part surfaces irriguées (% de la sole implantée)</td>\n",
       "      <td>Part surfaces irriguées (% de la sole implantée)</td>\n",
       "      <td>66.000000</td>\n",
       "      <td>72.770000</td>\n",
       "      <td>77.710000</td>\n",
       "      <td>81.600000</td>\n",
       "      <td>62.720000</td>\n",
       "      <td>58.563002</td>\n",
       "    </tr>\n",
       "    <tr>\n",
       "      <th>15</th>\n",
       "      <td>Généralités</td>\n",
       "      <td>Part des surfaces conduites en agriculture bio...</td>\n",
       "      <td>Part des surfaces conduites en agriculture bio...</td>\n",
       "      <td>NaN</td>\n",
       "      <td>0.630000</td>\n",
       "      <td>0.000000</td>\n",
       "      <td>1.750000</td>\n",
       "      <td>3.260000</td>\n",
       "      <td>0.536112</td>\n",
       "    </tr>\n",
       "    <tr>\n",
       "      <th>16</th>\n",
       "      <td>Interculture</td>\n",
       "      <td>Implantation-Semis (% de la sole implantée)</td>\n",
       "      <td>labour</td>\n",
       "      <td>96.753279</td>\n",
       "      <td>97.364488</td>\n",
       "      <td>79.084153</td>\n",
       "      <td>75.298593</td>\n",
       "      <td>69.469492</td>\n",
       "      <td>59.173250</td>\n",
       "    </tr>\n",
       "    <tr>\n",
       "      <th>17</th>\n",
       "      <td>Interculture</td>\n",
       "      <td>Implantation-Semis (% de la sole implantée)</td>\n",
       "      <td>semis direct</td>\n",
       "      <td>0.000000</td>\n",
       "      <td>0.506539</td>\n",
       "      <td>0.000000</td>\n",
       "      <td>0.000000</td>\n",
       "      <td>0.336882</td>\n",
       "      <td>1.593265</td>\n",
       "    </tr>\n",
       "    <tr>\n",
       "      <th>18</th>\n",
       "      <td>Interculture</td>\n",
       "      <td>Couverture du sol (% de la sole implantée)</td>\n",
       "      <td>par culture intermédiaire</td>\n",
       "      <td>0.000000</td>\n",
       "      <td>1.928978</td>\n",
       "      <td>3.288721</td>\n",
       "      <td>0.899343</td>\n",
       "      <td>1.628046</td>\n",
       "      <td>16.616037</td>\n",
       "    </tr>\n",
       "    <tr>\n",
       "      <th>19</th>\n",
       "      <td>Interculture</td>\n",
       "      <td>Couverture du sol (% de la sole implantée)</td>\n",
       "      <td>par culture dérobée</td>\n",
       "      <td>NaN</td>\n",
       "      <td>NaN</td>\n",
       "      <td>NaN</td>\n",
       "      <td>2.156822</td>\n",
       "      <td>0.826045</td>\n",
       "      <td>1.973300</td>\n",
       "    </tr>\n",
       "    <tr>\n",
       "      <th>20</th>\n",
       "      <td>Interculture</td>\n",
       "      <td>Couverture du sol (% de la sole implantée)</td>\n",
       "      <td>par des repousses du précédent cultural</td>\n",
       "      <td>NaN</td>\n",
       "      <td>6.448523</td>\n",
       "      <td>2.578074</td>\n",
       "      <td>6.362962</td>\n",
       "      <td>4.313994</td>\n",
       "      <td>6.857757</td>\n",
       "    </tr>\n",
       "    <tr>\n",
       "      <th>21</th>\n",
       "      <td>Interculture</td>\n",
       "      <td>Couverture du sol (% de la sole implantée)</td>\n",
       "      <td>par des résidus du précédent laissés sur place...</td>\n",
       "      <td>NaN</td>\n",
       "      <td>NaN</td>\n",
       "      <td>NaN</td>\n",
       "      <td>55.975233</td>\n",
       "      <td>64.533451</td>\n",
       "      <td>64.189061</td>\n",
       "    </tr>\n",
       "    <tr>\n",
       "      <th>22</th>\n",
       "      <td>Interculture</td>\n",
       "      <td>Couverture du sol (% de la sole implantée)</td>\n",
       "      <td>par des résidus du précédent laissés sur place...</td>\n",
       "      <td>NaN</td>\n",
       "      <td>NaN</td>\n",
       "      <td>NaN</td>\n",
       "      <td>30.814454</td>\n",
       "      <td>21.811844</td>\n",
       "      <td>20.937539</td>\n",
       "    </tr>\n",
       "    <tr>\n",
       "      <th>23</th>\n",
       "      <td>Fertilisation</td>\n",
       "      <td>Fertilisation minérale azotée</td>\n",
       "      <td>part des surfaces fertilisées %</td>\n",
       "      <td>99.350455</td>\n",
       "      <td>99.072457</td>\n",
       "      <td>100.000258</td>\n",
       "      <td>96.903673</td>\n",
       "      <td>98.427549</td>\n",
       "      <td>98.327783</td>\n",
       "    </tr>\n",
       "    <tr>\n",
       "      <th>24</th>\n",
       "      <td>Fertilisation</td>\n",
       "      <td>Fertilisation minérale azotée</td>\n",
       "      <td>nombre moyen d'apport</td>\n",
       "      <td>2.019604</td>\n",
       "      <td>2.213176</td>\n",
       "      <td>2.150364</td>\n",
       "      <td>2.089188</td>\n",
       "      <td>2.391384</td>\n",
       "      <td>2.418374</td>\n",
       "    </tr>\n",
       "    <tr>\n",
       "      <th>25</th>\n",
       "      <td>Fertilisation</td>\n",
       "      <td>Fertilisation minérale azotée</td>\n",
       "      <td>dose moyenne (kg/ha)</td>\n",
       "      <td>187.999606</td>\n",
       "      <td>188.890256</td>\n",
       "      <td>187.780627</td>\n",
       "      <td>184.318917</td>\n",
       "      <td>191.824876</td>\n",
       "      <td>181.579293</td>\n",
       "    </tr>\n",
       "    <tr>\n",
       "      <th>26</th>\n",
       "      <td>Fertilisation</td>\n",
       "      <td>Fertilisation minérale azotée</td>\n",
       "      <td>dose d'Azote minéral rapportée au rendement (k...</td>\n",
       "      <td>2.751030</td>\n",
       "      <td>2.205092</td>\n",
       "      <td>2.069070</td>\n",
       "      <td>2.203707</td>\n",
       "      <td>2.272202</td>\n",
       "      <td>1.900000</td>\n",
       "    </tr>\n",
       "    <tr>\n",
       "      <th>27</th>\n",
       "      <td>Fertilisation</td>\n",
       "      <td>Fertilisation phosphore minéral</td>\n",
       "      <td>part des surfaces fertilisées %</td>\n",
       "      <td>93.506257</td>\n",
       "      <td>92.842643</td>\n",
       "      <td>93.967111</td>\n",
       "      <td>80.543282</td>\n",
       "      <td>84.327471</td>\n",
       "      <td>89.414871</td>\n",
       "    </tr>\n",
       "    <tr>\n",
       "      <th>28</th>\n",
       "      <td>Fertilisation</td>\n",
       "      <td>Fertilisation phosphore minéral</td>\n",
       "      <td>nombre moyen d'apport</td>\n",
       "      <td>NaN</td>\n",
       "      <td>1.277731</td>\n",
       "      <td>1.297691</td>\n",
       "      <td>1.234784</td>\n",
       "      <td>NaN</td>\n",
       "      <td>1.282241</td>\n",
       "    </tr>\n",
       "    <tr>\n",
       "      <th>29</th>\n",
       "      <td>Fertilisation</td>\n",
       "      <td>Fertilisation phosphore minéral</td>\n",
       "      <td>dose moyenne (kg/ha)</td>\n",
       "      <td>105.131960</td>\n",
       "      <td>84.880673</td>\n",
       "      <td>74.412191</td>\n",
       "      <td>69.164579</td>\n",
       "      <td>NaN</td>\n",
       "      <td>63.035964</td>\n",
       "    </tr>\n",
       "    <tr>\n",
       "      <th>30</th>\n",
       "      <td>Fertilisation</td>\n",
       "      <td>Fertilisation potasse minéral</td>\n",
       "      <td>part des surfaces fertilisées %</td>\n",
       "      <td>90.259499</td>\n",
       "      <td>86.823468</td>\n",
       "      <td>80.533373</td>\n",
       "      <td>61.977070</td>\n",
       "      <td>71.691661</td>\n",
       "      <td>70.855841</td>\n",
       "    </tr>\n",
       "    <tr>\n",
       "      <th>31</th>\n",
       "      <td>Fertilisation</td>\n",
       "      <td>Fertilisation potasse minéral</td>\n",
       "      <td>nombre moyen d'apport</td>\n",
       "      <td>NaN</td>\n",
       "      <td>1.047092</td>\n",
       "      <td>1.056562</td>\n",
       "      <td>1.015498</td>\n",
       "      <td>NaN</td>\n",
       "      <td>1.066659</td>\n",
       "    </tr>\n",
       "    <tr>\n",
       "      <th>32</th>\n",
       "      <td>Fertilisation</td>\n",
       "      <td>Fertilisation potasse minéral</td>\n",
       "      <td>dose moyenne (kg/ha)</td>\n",
       "      <td>111.064795</td>\n",
       "      <td>89.368996</td>\n",
       "      <td>79.765485</td>\n",
       "      <td>63.871714</td>\n",
       "      <td>NaN</td>\n",
       "      <td>66.976742</td>\n",
       "    </tr>\n",
       "    <tr>\n",
       "      <th>33</th>\n",
       "      <td>Fertilisation</td>\n",
       "      <td>Fertlisation soufre minéral</td>\n",
       "      <td>part des surfaces fertilisées %</td>\n",
       "      <td>NaN</td>\n",
       "      <td>NaN</td>\n",
       "      <td>NaN</td>\n",
       "      <td>7.301149</td>\n",
       "      <td>15.169606</td>\n",
       "      <td>17.440802</td>\n",
       "    </tr>\n",
       "    <tr>\n",
       "      <th>34</th>\n",
       "      <td>Fertilisation</td>\n",
       "      <td>Fumure organique</td>\n",
       "      <td>part des surfaces fertilisées %</td>\n",
       "      <td>20.779360</td>\n",
       "      <td>19.308540</td>\n",
       "      <td>17.135202</td>\n",
       "      <td>21.333368</td>\n",
       "      <td>16.208162</td>\n",
       "      <td>14.970778</td>\n",
       "    </tr>\n",
       "    <tr>\n",
       "      <th>35</th>\n",
       "      <td>Fertilisation</td>\n",
       "      <td>Sans fertilisation</td>\n",
       "      <td>part des surfaces non fertilisées %</td>\n",
       "      <td>0.000000</td>\n",
       "      <td>0.063663</td>\n",
       "      <td>0.000000</td>\n",
       "      <td>0.000000</td>\n",
       "      <td>0.224542</td>\n",
       "      <td>0.087262</td>\n",
       "    </tr>\n",
       "    <tr>\n",
       "      <th>36</th>\n",
       "      <td>Protection phytosanitaire</td>\n",
       "      <td>Surfaces ayant reçu un traitement (% de la sol...</td>\n",
       "      <td>herbicides</td>\n",
       "      <td>100.000000</td>\n",
       "      <td>98.587790</td>\n",
       "      <td>98.504578</td>\n",
       "      <td>96.571505</td>\n",
       "      <td>97.633489</td>\n",
       "      <td>99.115628</td>\n",
       "    </tr>\n",
       "    <tr>\n",
       "      <th>37</th>\n",
       "      <td>Protection phytosanitaire</td>\n",
       "      <td>Surfaces ayant reçu un traitement (% de la sol...</td>\n",
       "      <td>fongicides</td>\n",
       "      <td>1.948044</td>\n",
       "      <td>1.295840</td>\n",
       "      <td>0.000000</td>\n",
       "      <td>4.403197</td>\n",
       "      <td>0.000000</td>\n",
       "      <td>2.098540</td>\n",
       "    </tr>\n",
       "    <tr>\n",
       "      <th>38</th>\n",
       "      <td>Protection phytosanitaire</td>\n",
       "      <td>Surfaces ayant reçu un traitement (% de la sol...</td>\n",
       "      <td>insecticides</td>\n",
       "      <td>55.194651</td>\n",
       "      <td>31.672599</td>\n",
       "      <td>54.370028</td>\n",
       "      <td>15.847442</td>\n",
       "      <td>30.505899</td>\n",
       "      <td>30.001434</td>\n",
       "    </tr>\n",
       "    <tr>\n",
       "      <th>39</th>\n",
       "      <td>Protection phytosanitaire</td>\n",
       "      <td>Surfaces ayant reçu un traitement (% de la sol...</td>\n",
       "      <td>au moins un traitement</td>\n",
       "      <td>100.000000</td>\n",
       "      <td>99.255579</td>\n",
       "      <td>100.000000</td>\n",
       "      <td>96.571505</td>\n",
       "      <td>97.703732</td>\n",
       "      <td>99.115628</td>\n",
       "    </tr>\n",
       "    <tr>\n",
       "      <th>40</th>\n",
       "      <td>Protection phytosanitaire</td>\n",
       "      <td>Nombre moyen de passages (parcelles traitées)</td>\n",
       "      <td>herbicides</td>\n",
       "      <td>NaN</td>\n",
       "      <td>NaN</td>\n",
       "      <td>1.530092</td>\n",
       "      <td>1.818920</td>\n",
       "      <td>1.691886</td>\n",
       "      <td>1.524701</td>\n",
       "    </tr>\n",
       "    <tr>\n",
       "      <th>41</th>\n",
       "      <td>Protection phytosanitaire</td>\n",
       "      <td>Nombre moyen de passages (parcelles traitées)</td>\n",
       "      <td>fongicides</td>\n",
       "      <td>NaN</td>\n",
       "      <td>NaN</td>\n",
       "      <td>0.000000</td>\n",
       "      <td>NaN</td>\n",
       "      <td>NaN</td>\n",
       "      <td>NaN</td>\n",
       "    </tr>\n",
       "    <tr>\n",
       "      <th>42</th>\n",
       "      <td>Protection phytosanitaire</td>\n",
       "      <td>Nombre moyen de passages (parcelles traitées)</td>\n",
       "      <td>insecticides</td>\n",
       "      <td>NaN</td>\n",
       "      <td>NaN</td>\n",
       "      <td>1.067863</td>\n",
       "      <td>NaN</td>\n",
       "      <td>1.072305</td>\n",
       "      <td>1.000000</td>\n",
       "    </tr>\n",
       "    <tr>\n",
       "      <th>43</th>\n",
       "      <td>Protection phytosanitaire</td>\n",
       "      <td>Nombre moyen de passages (parcelles traitées)</td>\n",
       "      <td>ensemble des traitements</td>\n",
       "      <td>NaN</td>\n",
       "      <td>NaN</td>\n",
       "      <td>2.408720</td>\n",
       "      <td>2.344119</td>\n",
       "      <td>2.431130</td>\n",
       "      <td>2.136559</td>\n",
       "    </tr>\n",
       "    <tr>\n",
       "      <th>44</th>\n",
       "      <td>Protection phytosanitaire</td>\n",
       "      <td>Nombre moyen de produits appliqués (parcelles ...</td>\n",
       "      <td>herbicides</td>\n",
       "      <td>1.305196</td>\n",
       "      <td>2.193003</td>\n",
       "      <td>2.253704</td>\n",
       "      <td>2.324536</td>\n",
       "      <td>2.414791</td>\n",
       "      <td>2.237279</td>\n",
       "    </tr>\n",
       "    <tr>\n",
       "      <th>45</th>\n",
       "      <td>Protection phytosanitaire</td>\n",
       "      <td>Nombre moyen de produits appliqués (parcelles ...</td>\n",
       "      <td>fongicides</td>\n",
       "      <td>NaN</td>\n",
       "      <td>NaN</td>\n",
       "      <td>0.000000</td>\n",
       "      <td>NaN</td>\n",
       "      <td>NaN</td>\n",
       "      <td>NaN</td>\n",
       "    </tr>\n",
       "    <tr>\n",
       "      <th>46</th>\n",
       "      <td>Protection phytosanitaire</td>\n",
       "      <td>Nombre moyen de produits appliqués (parcelles ...</td>\n",
       "      <td>insecticides</td>\n",
       "      <td>1.058824</td>\n",
       "      <td>1.149019</td>\n",
       "      <td>1.080130</td>\n",
       "      <td>NaN</td>\n",
       "      <td>1.100557</td>\n",
       "      <td>1.000000</td>\n",
       "    </tr>\n",
       "    <tr>\n",
       "      <th>47</th>\n",
       "      <td>Protection phytosanitaire</td>\n",
       "      <td>Nombre moyen de produits appliqués (parcelles ...</td>\n",
       "      <td>ensemble des traitements</td>\n",
       "      <td>NaN</td>\n",
       "      <td>NaN</td>\n",
       "      <td>3.361612</td>\n",
       "      <td>2.975984</td>\n",
       "      <td>3.358074</td>\n",
       "      <td>2.900511</td>\n",
       "    </tr>\n",
       "    <tr>\n",
       "      <th>48</th>\n",
       "      <td>Protection phytosanitaire</td>\n",
       "      <td>IFT moyen (parcelles ayant au moins un traitem...</td>\n",
       "      <td>Hors biocontrôle</td>\n",
       "      <td>NaN</td>\n",
       "      <td>NaN</td>\n",
       "      <td>NaN</td>\n",
       "      <td>2.926433</td>\n",
       "      <td>3.070955</td>\n",
       "      <td>2.635363</td>\n",
       "    </tr>\n",
       "    <tr>\n",
       "      <th>49</th>\n",
       "      <td>Protection phytosanitaire</td>\n",
       "      <td>IFT moyen (parcelles ayant au moins un traitem...</td>\n",
       "      <td>Biocontrôle</td>\n",
       "      <td>NaN</td>\n",
       "      <td>NaN</td>\n",
       "      <td>NaN</td>\n",
       "      <td>NaN</td>\n",
       "      <td>NaN</td>\n",
       "      <td>NaN</td>\n",
       "    </tr>\n",
       "    <tr>\n",
       "      <th>50</th>\n",
       "      <td>Protection phytosanitaire</td>\n",
       "      <td>IFT moyen (parcelles ayant au moins un traitem...</td>\n",
       "      <td>herbicides</td>\n",
       "      <td>NaN</td>\n",
       "      <td>NaN</td>\n",
       "      <td>NaN</td>\n",
       "      <td>1.500988</td>\n",
       "      <td>1.546090</td>\n",
       "      <td>1.419355</td>\n",
       "    </tr>\n",
       "    <tr>\n",
       "      <th>51</th>\n",
       "      <td>Protection phytosanitaire</td>\n",
       "      <td>IFT moyen (parcelles ayant au moins un traitem...</td>\n",
       "      <td>fongicides</td>\n",
       "      <td>NaN</td>\n",
       "      <td>NaN</td>\n",
       "      <td>NaN</td>\n",
       "      <td>NaN</td>\n",
       "      <td>NaN</td>\n",
       "      <td>NaN</td>\n",
       "    </tr>\n",
       "    <tr>\n",
       "      <th>52</th>\n",
       "      <td>Protection phytosanitaire</td>\n",
       "      <td>IFT moyen (parcelles ayant au moins un traitem...</td>\n",
       "      <td>insecticides</td>\n",
       "      <td>NaN</td>\n",
       "      <td>NaN</td>\n",
       "      <td>NaN</td>\n",
       "      <td>NaN</td>\n",
       "      <td>0.282771</td>\n",
       "      <td>0.265081</td>\n",
       "    </tr>\n",
       "    <tr>\n",
       "      <th>53</th>\n",
       "      <td>Protection phytosanitaire</td>\n",
       "      <td>IFT moyen (parcelles ayant au moins un traitem...</td>\n",
       "      <td>ensemble des traitements y compris semences</td>\n",
       "      <td>NaN</td>\n",
       "      <td>NaN</td>\n",
       "      <td>NaN</td>\n",
       "      <td>2.926433</td>\n",
       "      <td>3.070955</td>\n",
       "      <td>2.652146</td>\n",
       "    </tr>\n",
       "    <tr>\n",
       "      <th>54</th>\n",
       "      <td>Protection phytosanitaire</td>\n",
       "      <td>IFT Percentile 70 (Parcelles ayant au moins un...</td>\n",
       "      <td>ensemble des traitements y compris semences</td>\n",
       "      <td>NaN</td>\n",
       "      <td>NaN</td>\n",
       "      <td>NaN</td>\n",
       "      <td>3.400000</td>\n",
       "      <td>3.500000</td>\n",
       "      <td>3.099000</td>\n",
       "    </tr>\n",
       "  </tbody>\n",
       "</table>\n",
       "</div>"
      ]
     },
     "execution_count": 10,
     "metadata": {},
     "output_type": "execute_result"
    }
   ],
   "execution_count": 10
  },
  {
   "metadata": {
    "ExecuteTime": {
     "end_time": "2024-05-27T13:15:59.261158Z",
     "start_time": "2024-05-27T13:15:59.222691Z"
    }
   },
   "cell_type": "code",
   "source": [
    "i = \"Rendement aux normes (q/ha)\"\n",
    "list_y = []\n",
    "for i in df.loc[df[\"partie\"]==i,[\"1994\",\"2001\",\"2006\",\"2011\",\"2014\",\"2017\"]].iloc[0]:\n",
    "    list_y.append(i)\n",
    "\n",
    "px.scatter(x = [1994,2001,2006,2011,2014,2017], y = list_y)"
   ],
   "id": "f8700d48c02a664",
   "outputs": [
    {
     "data": {
      "application/vnd.plotly.v1+json": {
       "data": [
        {
         "hovertemplate": "x=%{x}<br>y=%{y}<extra></extra>",
         "legendgroup": "",
         "marker": {
          "color": "#636efa",
          "symbol": "circle"
         },
         "mode": "markers",
         "name": "",
         "orientation": "v",
         "showlegend": false,
         "x": [
          1994,
          2001,
          2006,
          2011,
          2014,
          2017
         ],
         "xaxis": "x",
         "y": [
          76.0,
          89.0,
          97.0,
          101.0,
          103.85185731705717,
          100.80195345027191
         ],
         "yaxis": "y",
         "type": "scatter"
        }
       ],
       "layout": {
        "template": {
         "data": {
          "histogram2dcontour": [
           {
            "type": "histogram2dcontour",
            "colorbar": {
             "outlinewidth": 0,
             "ticks": ""
            },
            "colorscale": [
             [
              0.0,
              "#0d0887"
             ],
             [
              0.1111111111111111,
              "#46039f"
             ],
             [
              0.2222222222222222,
              "#7201a8"
             ],
             [
              0.3333333333333333,
              "#9c179e"
             ],
             [
              0.4444444444444444,
              "#bd3786"
             ],
             [
              0.5555555555555556,
              "#d8576b"
             ],
             [
              0.6666666666666666,
              "#ed7953"
             ],
             [
              0.7777777777777778,
              "#fb9f3a"
             ],
             [
              0.8888888888888888,
              "#fdca26"
             ],
             [
              1.0,
              "#f0f921"
             ]
            ]
           }
          ],
          "choropleth": [
           {
            "type": "choropleth",
            "colorbar": {
             "outlinewidth": 0,
             "ticks": ""
            }
           }
          ],
          "histogram2d": [
           {
            "type": "histogram2d",
            "colorbar": {
             "outlinewidth": 0,
             "ticks": ""
            },
            "colorscale": [
             [
              0.0,
              "#0d0887"
             ],
             [
              0.1111111111111111,
              "#46039f"
             ],
             [
              0.2222222222222222,
              "#7201a8"
             ],
             [
              0.3333333333333333,
              "#9c179e"
             ],
             [
              0.4444444444444444,
              "#bd3786"
             ],
             [
              0.5555555555555556,
              "#d8576b"
             ],
             [
              0.6666666666666666,
              "#ed7953"
             ],
             [
              0.7777777777777778,
              "#fb9f3a"
             ],
             [
              0.8888888888888888,
              "#fdca26"
             ],
             [
              1.0,
              "#f0f921"
             ]
            ]
           }
          ],
          "heatmap": [
           {
            "type": "heatmap",
            "colorbar": {
             "outlinewidth": 0,
             "ticks": ""
            },
            "colorscale": [
             [
              0.0,
              "#0d0887"
             ],
             [
              0.1111111111111111,
              "#46039f"
             ],
             [
              0.2222222222222222,
              "#7201a8"
             ],
             [
              0.3333333333333333,
              "#9c179e"
             ],
             [
              0.4444444444444444,
              "#bd3786"
             ],
             [
              0.5555555555555556,
              "#d8576b"
             ],
             [
              0.6666666666666666,
              "#ed7953"
             ],
             [
              0.7777777777777778,
              "#fb9f3a"
             ],
             [
              0.8888888888888888,
              "#fdca26"
             ],
             [
              1.0,
              "#f0f921"
             ]
            ]
           }
          ],
          "heatmapgl": [
           {
            "type": "heatmapgl",
            "colorbar": {
             "outlinewidth": 0,
             "ticks": ""
            },
            "colorscale": [
             [
              0.0,
              "#0d0887"
             ],
             [
              0.1111111111111111,
              "#46039f"
             ],
             [
              0.2222222222222222,
              "#7201a8"
             ],
             [
              0.3333333333333333,
              "#9c179e"
             ],
             [
              0.4444444444444444,
              "#bd3786"
             ],
             [
              0.5555555555555556,
              "#d8576b"
             ],
             [
              0.6666666666666666,
              "#ed7953"
             ],
             [
              0.7777777777777778,
              "#fb9f3a"
             ],
             [
              0.8888888888888888,
              "#fdca26"
             ],
             [
              1.0,
              "#f0f921"
             ]
            ]
           }
          ],
          "contourcarpet": [
           {
            "type": "contourcarpet",
            "colorbar": {
             "outlinewidth": 0,
             "ticks": ""
            }
           }
          ],
          "contour": [
           {
            "type": "contour",
            "colorbar": {
             "outlinewidth": 0,
             "ticks": ""
            },
            "colorscale": [
             [
              0.0,
              "#0d0887"
             ],
             [
              0.1111111111111111,
              "#46039f"
             ],
             [
              0.2222222222222222,
              "#7201a8"
             ],
             [
              0.3333333333333333,
              "#9c179e"
             ],
             [
              0.4444444444444444,
              "#bd3786"
             ],
             [
              0.5555555555555556,
              "#d8576b"
             ],
             [
              0.6666666666666666,
              "#ed7953"
             ],
             [
              0.7777777777777778,
              "#fb9f3a"
             ],
             [
              0.8888888888888888,
              "#fdca26"
             ],
             [
              1.0,
              "#f0f921"
             ]
            ]
           }
          ],
          "surface": [
           {
            "type": "surface",
            "colorbar": {
             "outlinewidth": 0,
             "ticks": ""
            },
            "colorscale": [
             [
              0.0,
              "#0d0887"
             ],
             [
              0.1111111111111111,
              "#46039f"
             ],
             [
              0.2222222222222222,
              "#7201a8"
             ],
             [
              0.3333333333333333,
              "#9c179e"
             ],
             [
              0.4444444444444444,
              "#bd3786"
             ],
             [
              0.5555555555555556,
              "#d8576b"
             ],
             [
              0.6666666666666666,
              "#ed7953"
             ],
             [
              0.7777777777777778,
              "#fb9f3a"
             ],
             [
              0.8888888888888888,
              "#fdca26"
             ],
             [
              1.0,
              "#f0f921"
             ]
            ]
           }
          ],
          "mesh3d": [
           {
            "type": "mesh3d",
            "colorbar": {
             "outlinewidth": 0,
             "ticks": ""
            }
           }
          ],
          "scatter": [
           {
            "fillpattern": {
             "fillmode": "overlay",
             "size": 10,
             "solidity": 0.2
            },
            "type": "scatter"
           }
          ],
          "parcoords": [
           {
            "type": "parcoords",
            "line": {
             "colorbar": {
              "outlinewidth": 0,
              "ticks": ""
             }
            }
           }
          ],
          "scatterpolargl": [
           {
            "type": "scatterpolargl",
            "marker": {
             "colorbar": {
              "outlinewidth": 0,
              "ticks": ""
             }
            }
           }
          ],
          "bar": [
           {
            "error_x": {
             "color": "#2a3f5f"
            },
            "error_y": {
             "color": "#2a3f5f"
            },
            "marker": {
             "line": {
              "color": "#E5ECF6",
              "width": 0.5
             },
             "pattern": {
              "fillmode": "overlay",
              "size": 10,
              "solidity": 0.2
             }
            },
            "type": "bar"
           }
          ],
          "scattergeo": [
           {
            "type": "scattergeo",
            "marker": {
             "colorbar": {
              "outlinewidth": 0,
              "ticks": ""
             }
            }
           }
          ],
          "scatterpolar": [
           {
            "type": "scatterpolar",
            "marker": {
             "colorbar": {
              "outlinewidth": 0,
              "ticks": ""
             }
            }
           }
          ],
          "histogram": [
           {
            "marker": {
             "pattern": {
              "fillmode": "overlay",
              "size": 10,
              "solidity": 0.2
             }
            },
            "type": "histogram"
           }
          ],
          "scattergl": [
           {
            "type": "scattergl",
            "marker": {
             "colorbar": {
              "outlinewidth": 0,
              "ticks": ""
             }
            }
           }
          ],
          "scatter3d": [
           {
            "type": "scatter3d",
            "line": {
             "colorbar": {
              "outlinewidth": 0,
              "ticks": ""
             }
            },
            "marker": {
             "colorbar": {
              "outlinewidth": 0,
              "ticks": ""
             }
            }
           }
          ],
          "scattermapbox": [
           {
            "type": "scattermapbox",
            "marker": {
             "colorbar": {
              "outlinewidth": 0,
              "ticks": ""
             }
            }
           }
          ],
          "scatterternary": [
           {
            "type": "scatterternary",
            "marker": {
             "colorbar": {
              "outlinewidth": 0,
              "ticks": ""
             }
            }
           }
          ],
          "scattercarpet": [
           {
            "type": "scattercarpet",
            "marker": {
             "colorbar": {
              "outlinewidth": 0,
              "ticks": ""
             }
            }
           }
          ],
          "carpet": [
           {
            "aaxis": {
             "endlinecolor": "#2a3f5f",
             "gridcolor": "white",
             "linecolor": "white",
             "minorgridcolor": "white",
             "startlinecolor": "#2a3f5f"
            },
            "baxis": {
             "endlinecolor": "#2a3f5f",
             "gridcolor": "white",
             "linecolor": "white",
             "minorgridcolor": "white",
             "startlinecolor": "#2a3f5f"
            },
            "type": "carpet"
           }
          ],
          "table": [
           {
            "cells": {
             "fill": {
              "color": "#EBF0F8"
             },
             "line": {
              "color": "white"
             }
            },
            "header": {
             "fill": {
              "color": "#C8D4E3"
             },
             "line": {
              "color": "white"
             }
            },
            "type": "table"
           }
          ],
          "barpolar": [
           {
            "marker": {
             "line": {
              "color": "#E5ECF6",
              "width": 0.5
             },
             "pattern": {
              "fillmode": "overlay",
              "size": 10,
              "solidity": 0.2
             }
            },
            "type": "barpolar"
           }
          ],
          "pie": [
           {
            "automargin": true,
            "type": "pie"
           }
          ]
         },
         "layout": {
          "autotypenumbers": "strict",
          "colorway": [
           "#636efa",
           "#EF553B",
           "#00cc96",
           "#ab63fa",
           "#FFA15A",
           "#19d3f3",
           "#FF6692",
           "#B6E880",
           "#FF97FF",
           "#FECB52"
          ],
          "font": {
           "color": "#2a3f5f"
          },
          "hovermode": "closest",
          "hoverlabel": {
           "align": "left"
          },
          "paper_bgcolor": "white",
          "plot_bgcolor": "#E5ECF6",
          "polar": {
           "bgcolor": "#E5ECF6",
           "angularaxis": {
            "gridcolor": "white",
            "linecolor": "white",
            "ticks": ""
           },
           "radialaxis": {
            "gridcolor": "white",
            "linecolor": "white",
            "ticks": ""
           }
          },
          "ternary": {
           "bgcolor": "#E5ECF6",
           "aaxis": {
            "gridcolor": "white",
            "linecolor": "white",
            "ticks": ""
           },
           "baxis": {
            "gridcolor": "white",
            "linecolor": "white",
            "ticks": ""
           },
           "caxis": {
            "gridcolor": "white",
            "linecolor": "white",
            "ticks": ""
           }
          },
          "coloraxis": {
           "colorbar": {
            "outlinewidth": 0,
            "ticks": ""
           }
          },
          "colorscale": {
           "sequential": [
            [
             0.0,
             "#0d0887"
            ],
            [
             0.1111111111111111,
             "#46039f"
            ],
            [
             0.2222222222222222,
             "#7201a8"
            ],
            [
             0.3333333333333333,
             "#9c179e"
            ],
            [
             0.4444444444444444,
             "#bd3786"
            ],
            [
             0.5555555555555556,
             "#d8576b"
            ],
            [
             0.6666666666666666,
             "#ed7953"
            ],
            [
             0.7777777777777778,
             "#fb9f3a"
            ],
            [
             0.8888888888888888,
             "#fdca26"
            ],
            [
             1.0,
             "#f0f921"
            ]
           ],
           "sequentialminus": [
            [
             0.0,
             "#0d0887"
            ],
            [
             0.1111111111111111,
             "#46039f"
            ],
            [
             0.2222222222222222,
             "#7201a8"
            ],
            [
             0.3333333333333333,
             "#9c179e"
            ],
            [
             0.4444444444444444,
             "#bd3786"
            ],
            [
             0.5555555555555556,
             "#d8576b"
            ],
            [
             0.6666666666666666,
             "#ed7953"
            ],
            [
             0.7777777777777778,
             "#fb9f3a"
            ],
            [
             0.8888888888888888,
             "#fdca26"
            ],
            [
             1.0,
             "#f0f921"
            ]
           ],
           "diverging": [
            [
             0,
             "#8e0152"
            ],
            [
             0.1,
             "#c51b7d"
            ],
            [
             0.2,
             "#de77ae"
            ],
            [
             0.3,
             "#f1b6da"
            ],
            [
             0.4,
             "#fde0ef"
            ],
            [
             0.5,
             "#f7f7f7"
            ],
            [
             0.6,
             "#e6f5d0"
            ],
            [
             0.7,
             "#b8e186"
            ],
            [
             0.8,
             "#7fbc41"
            ],
            [
             0.9,
             "#4d9221"
            ],
            [
             1,
             "#276419"
            ]
           ]
          },
          "xaxis": {
           "gridcolor": "white",
           "linecolor": "white",
           "ticks": "",
           "title": {
            "standoff": 15
           },
           "zerolinecolor": "white",
           "automargin": true,
           "zerolinewidth": 2
          },
          "yaxis": {
           "gridcolor": "white",
           "linecolor": "white",
           "ticks": "",
           "title": {
            "standoff": 15
           },
           "zerolinecolor": "white",
           "automargin": true,
           "zerolinewidth": 2
          },
          "scene": {
           "xaxis": {
            "backgroundcolor": "#E5ECF6",
            "gridcolor": "white",
            "linecolor": "white",
            "showbackground": true,
            "ticks": "",
            "zerolinecolor": "white",
            "gridwidth": 2
           },
           "yaxis": {
            "backgroundcolor": "#E5ECF6",
            "gridcolor": "white",
            "linecolor": "white",
            "showbackground": true,
            "ticks": "",
            "zerolinecolor": "white",
            "gridwidth": 2
           },
           "zaxis": {
            "backgroundcolor": "#E5ECF6",
            "gridcolor": "white",
            "linecolor": "white",
            "showbackground": true,
            "ticks": "",
            "zerolinecolor": "white",
            "gridwidth": 2
           }
          },
          "shapedefaults": {
           "line": {
            "color": "#2a3f5f"
           }
          },
          "annotationdefaults": {
           "arrowcolor": "#2a3f5f",
           "arrowhead": 0,
           "arrowwidth": 1
          },
          "geo": {
           "bgcolor": "white",
           "landcolor": "#E5ECF6",
           "subunitcolor": "white",
           "showland": true,
           "showlakes": true,
           "lakecolor": "white"
          },
          "title": {
           "x": 0.05
          },
          "mapbox": {
           "style": "light"
          }
         }
        },
        "xaxis": {
         "anchor": "y",
         "domain": [
          0.0,
          1.0
         ],
         "title": {
          "text": "x"
         }
        },
        "yaxis": {
         "anchor": "x",
         "domain": [
          0.0,
          1.0
         ],
         "title": {
          "text": "y"
         }
        },
        "legend": {
         "tracegroupgap": 0
        },
        "margin": {
         "t": 60
        }
       },
       "config": {
        "plotlyServerURL": "https://plot.ly"
       }
      },
      "text/html": [
       "<div>                            <div id=\"ecc324b4-a863-4b77-bb6f-3ace3a4247bc\" class=\"plotly-graph-div\" style=\"height:525px; width:100%;\"></div>            <script type=\"text/javascript\">                require([\"plotly\"], function(Plotly) {                    window.PLOTLYENV=window.PLOTLYENV || {};                                    if (document.getElementById(\"ecc324b4-a863-4b77-bb6f-3ace3a4247bc\")) {                    Plotly.newPlot(                        \"ecc324b4-a863-4b77-bb6f-3ace3a4247bc\",                        [{\"hovertemplate\":\"x=%{x}\\u003cbr\\u003ey=%{y}\\u003cextra\\u003e\\u003c\\u002fextra\\u003e\",\"legendgroup\":\"\",\"marker\":{\"color\":\"#636efa\",\"symbol\":\"circle\"},\"mode\":\"markers\",\"name\":\"\",\"orientation\":\"v\",\"showlegend\":false,\"x\":[1994,2001,2006,2011,2014,2017],\"xaxis\":\"x\",\"y\":[76.0,89.0,97.0,101.0,103.85185731705717,100.80195345027191],\"yaxis\":\"y\",\"type\":\"scatter\"}],                        {\"template\":{\"data\":{\"histogram2dcontour\":[{\"type\":\"histogram2dcontour\",\"colorbar\":{\"outlinewidth\":0,\"ticks\":\"\"},\"colorscale\":[[0.0,\"#0d0887\"],[0.1111111111111111,\"#46039f\"],[0.2222222222222222,\"#7201a8\"],[0.3333333333333333,\"#9c179e\"],[0.4444444444444444,\"#bd3786\"],[0.5555555555555556,\"#d8576b\"],[0.6666666666666666,\"#ed7953\"],[0.7777777777777778,\"#fb9f3a\"],[0.8888888888888888,\"#fdca26\"],[1.0,\"#f0f921\"]]}],\"choropleth\":[{\"type\":\"choropleth\",\"colorbar\":{\"outlinewidth\":0,\"ticks\":\"\"}}],\"histogram2d\":[{\"type\":\"histogram2d\",\"colorbar\":{\"outlinewidth\":0,\"ticks\":\"\"},\"colorscale\":[[0.0,\"#0d0887\"],[0.1111111111111111,\"#46039f\"],[0.2222222222222222,\"#7201a8\"],[0.3333333333333333,\"#9c179e\"],[0.4444444444444444,\"#bd3786\"],[0.5555555555555556,\"#d8576b\"],[0.6666666666666666,\"#ed7953\"],[0.7777777777777778,\"#fb9f3a\"],[0.8888888888888888,\"#fdca26\"],[1.0,\"#f0f921\"]]}],\"heatmap\":[{\"type\":\"heatmap\",\"colorbar\":{\"outlinewidth\":0,\"ticks\":\"\"},\"colorscale\":[[0.0,\"#0d0887\"],[0.1111111111111111,\"#46039f\"],[0.2222222222222222,\"#7201a8\"],[0.3333333333333333,\"#9c179e\"],[0.4444444444444444,\"#bd3786\"],[0.5555555555555556,\"#d8576b\"],[0.6666666666666666,\"#ed7953\"],[0.7777777777777778,\"#fb9f3a\"],[0.8888888888888888,\"#fdca26\"],[1.0,\"#f0f921\"]]}],\"heatmapgl\":[{\"type\":\"heatmapgl\",\"colorbar\":{\"outlinewidth\":0,\"ticks\":\"\"},\"colorscale\":[[0.0,\"#0d0887\"],[0.1111111111111111,\"#46039f\"],[0.2222222222222222,\"#7201a8\"],[0.3333333333333333,\"#9c179e\"],[0.4444444444444444,\"#bd3786\"],[0.5555555555555556,\"#d8576b\"],[0.6666666666666666,\"#ed7953\"],[0.7777777777777778,\"#fb9f3a\"],[0.8888888888888888,\"#fdca26\"],[1.0,\"#f0f921\"]]}],\"contourcarpet\":[{\"type\":\"contourcarpet\",\"colorbar\":{\"outlinewidth\":0,\"ticks\":\"\"}}],\"contour\":[{\"type\":\"contour\",\"colorbar\":{\"outlinewidth\":0,\"ticks\":\"\"},\"colorscale\":[[0.0,\"#0d0887\"],[0.1111111111111111,\"#46039f\"],[0.2222222222222222,\"#7201a8\"],[0.3333333333333333,\"#9c179e\"],[0.4444444444444444,\"#bd3786\"],[0.5555555555555556,\"#d8576b\"],[0.6666666666666666,\"#ed7953\"],[0.7777777777777778,\"#fb9f3a\"],[0.8888888888888888,\"#fdca26\"],[1.0,\"#f0f921\"]]}],\"surface\":[{\"type\":\"surface\",\"colorbar\":{\"outlinewidth\":0,\"ticks\":\"\"},\"colorscale\":[[0.0,\"#0d0887\"],[0.1111111111111111,\"#46039f\"],[0.2222222222222222,\"#7201a8\"],[0.3333333333333333,\"#9c179e\"],[0.4444444444444444,\"#bd3786\"],[0.5555555555555556,\"#d8576b\"],[0.6666666666666666,\"#ed7953\"],[0.7777777777777778,\"#fb9f3a\"],[0.8888888888888888,\"#fdca26\"],[1.0,\"#f0f921\"]]}],\"mesh3d\":[{\"type\":\"mesh3d\",\"colorbar\":{\"outlinewidth\":0,\"ticks\":\"\"}}],\"scatter\":[{\"fillpattern\":{\"fillmode\":\"overlay\",\"size\":10,\"solidity\":0.2},\"type\":\"scatter\"}],\"parcoords\":[{\"type\":\"parcoords\",\"line\":{\"colorbar\":{\"outlinewidth\":0,\"ticks\":\"\"}}}],\"scatterpolargl\":[{\"type\":\"scatterpolargl\",\"marker\":{\"colorbar\":{\"outlinewidth\":0,\"ticks\":\"\"}}}],\"bar\":[{\"error_x\":{\"color\":\"#2a3f5f\"},\"error_y\":{\"color\":\"#2a3f5f\"},\"marker\":{\"line\":{\"color\":\"#E5ECF6\",\"width\":0.5},\"pattern\":{\"fillmode\":\"overlay\",\"size\":10,\"solidity\":0.2}},\"type\":\"bar\"}],\"scattergeo\":[{\"type\":\"scattergeo\",\"marker\":{\"colorbar\":{\"outlinewidth\":0,\"ticks\":\"\"}}}],\"scatterpolar\":[{\"type\":\"scatterpolar\",\"marker\":{\"colorbar\":{\"outlinewidth\":0,\"ticks\":\"\"}}}],\"histogram\":[{\"marker\":{\"pattern\":{\"fillmode\":\"overlay\",\"size\":10,\"solidity\":0.2}},\"type\":\"histogram\"}],\"scattergl\":[{\"type\":\"scattergl\",\"marker\":{\"colorbar\":{\"outlinewidth\":0,\"ticks\":\"\"}}}],\"scatter3d\":[{\"type\":\"scatter3d\",\"line\":{\"colorbar\":{\"outlinewidth\":0,\"ticks\":\"\"}},\"marker\":{\"colorbar\":{\"outlinewidth\":0,\"ticks\":\"\"}}}],\"scattermapbox\":[{\"type\":\"scattermapbox\",\"marker\":{\"colorbar\":{\"outlinewidth\":0,\"ticks\":\"\"}}}],\"scatterternary\":[{\"type\":\"scatterternary\",\"marker\":{\"colorbar\":{\"outlinewidth\":0,\"ticks\":\"\"}}}],\"scattercarpet\":[{\"type\":\"scattercarpet\",\"marker\":{\"colorbar\":{\"outlinewidth\":0,\"ticks\":\"\"}}}],\"carpet\":[{\"aaxis\":{\"endlinecolor\":\"#2a3f5f\",\"gridcolor\":\"white\",\"linecolor\":\"white\",\"minorgridcolor\":\"white\",\"startlinecolor\":\"#2a3f5f\"},\"baxis\":{\"endlinecolor\":\"#2a3f5f\",\"gridcolor\":\"white\",\"linecolor\":\"white\",\"minorgridcolor\":\"white\",\"startlinecolor\":\"#2a3f5f\"},\"type\":\"carpet\"}],\"table\":[{\"cells\":{\"fill\":{\"color\":\"#EBF0F8\"},\"line\":{\"color\":\"white\"}},\"header\":{\"fill\":{\"color\":\"#C8D4E3\"},\"line\":{\"color\":\"white\"}},\"type\":\"table\"}],\"barpolar\":[{\"marker\":{\"line\":{\"color\":\"#E5ECF6\",\"width\":0.5},\"pattern\":{\"fillmode\":\"overlay\",\"size\":10,\"solidity\":0.2}},\"type\":\"barpolar\"}],\"pie\":[{\"automargin\":true,\"type\":\"pie\"}]},\"layout\":{\"autotypenumbers\":\"strict\",\"colorway\":[\"#636efa\",\"#EF553B\",\"#00cc96\",\"#ab63fa\",\"#FFA15A\",\"#19d3f3\",\"#FF6692\",\"#B6E880\",\"#FF97FF\",\"#FECB52\"],\"font\":{\"color\":\"#2a3f5f\"},\"hovermode\":\"closest\",\"hoverlabel\":{\"align\":\"left\"},\"paper_bgcolor\":\"white\",\"plot_bgcolor\":\"#E5ECF6\",\"polar\":{\"bgcolor\":\"#E5ECF6\",\"angularaxis\":{\"gridcolor\":\"white\",\"linecolor\":\"white\",\"ticks\":\"\"},\"radialaxis\":{\"gridcolor\":\"white\",\"linecolor\":\"white\",\"ticks\":\"\"}},\"ternary\":{\"bgcolor\":\"#E5ECF6\",\"aaxis\":{\"gridcolor\":\"white\",\"linecolor\":\"white\",\"ticks\":\"\"},\"baxis\":{\"gridcolor\":\"white\",\"linecolor\":\"white\",\"ticks\":\"\"},\"caxis\":{\"gridcolor\":\"white\",\"linecolor\":\"white\",\"ticks\":\"\"}},\"coloraxis\":{\"colorbar\":{\"outlinewidth\":0,\"ticks\":\"\"}},\"colorscale\":{\"sequential\":[[0.0,\"#0d0887\"],[0.1111111111111111,\"#46039f\"],[0.2222222222222222,\"#7201a8\"],[0.3333333333333333,\"#9c179e\"],[0.4444444444444444,\"#bd3786\"],[0.5555555555555556,\"#d8576b\"],[0.6666666666666666,\"#ed7953\"],[0.7777777777777778,\"#fb9f3a\"],[0.8888888888888888,\"#fdca26\"],[1.0,\"#f0f921\"]],\"sequentialminus\":[[0.0,\"#0d0887\"],[0.1111111111111111,\"#46039f\"],[0.2222222222222222,\"#7201a8\"],[0.3333333333333333,\"#9c179e\"],[0.4444444444444444,\"#bd3786\"],[0.5555555555555556,\"#d8576b\"],[0.6666666666666666,\"#ed7953\"],[0.7777777777777778,\"#fb9f3a\"],[0.8888888888888888,\"#fdca26\"],[1.0,\"#f0f921\"]],\"diverging\":[[0,\"#8e0152\"],[0.1,\"#c51b7d\"],[0.2,\"#de77ae\"],[0.3,\"#f1b6da\"],[0.4,\"#fde0ef\"],[0.5,\"#f7f7f7\"],[0.6,\"#e6f5d0\"],[0.7,\"#b8e186\"],[0.8,\"#7fbc41\"],[0.9,\"#4d9221\"],[1,\"#276419\"]]},\"xaxis\":{\"gridcolor\":\"white\",\"linecolor\":\"white\",\"ticks\":\"\",\"title\":{\"standoff\":15},\"zerolinecolor\":\"white\",\"automargin\":true,\"zerolinewidth\":2},\"yaxis\":{\"gridcolor\":\"white\",\"linecolor\":\"white\",\"ticks\":\"\",\"title\":{\"standoff\":15},\"zerolinecolor\":\"white\",\"automargin\":true,\"zerolinewidth\":2},\"scene\":{\"xaxis\":{\"backgroundcolor\":\"#E5ECF6\",\"gridcolor\":\"white\",\"linecolor\":\"white\",\"showbackground\":true,\"ticks\":\"\",\"zerolinecolor\":\"white\",\"gridwidth\":2},\"yaxis\":{\"backgroundcolor\":\"#E5ECF6\",\"gridcolor\":\"white\",\"linecolor\":\"white\",\"showbackground\":true,\"ticks\":\"\",\"zerolinecolor\":\"white\",\"gridwidth\":2},\"zaxis\":{\"backgroundcolor\":\"#E5ECF6\",\"gridcolor\":\"white\",\"linecolor\":\"white\",\"showbackground\":true,\"ticks\":\"\",\"zerolinecolor\":\"white\",\"gridwidth\":2}},\"shapedefaults\":{\"line\":{\"color\":\"#2a3f5f\"}},\"annotationdefaults\":{\"arrowcolor\":\"#2a3f5f\",\"arrowhead\":0,\"arrowwidth\":1},\"geo\":{\"bgcolor\":\"white\",\"landcolor\":\"#E5ECF6\",\"subunitcolor\":\"white\",\"showland\":true,\"showlakes\":true,\"lakecolor\":\"white\"},\"title\":{\"x\":0.05},\"mapbox\":{\"style\":\"light\"}}},\"xaxis\":{\"anchor\":\"y\",\"domain\":[0.0,1.0],\"title\":{\"text\":\"x\"}},\"yaxis\":{\"anchor\":\"x\",\"domain\":[0.0,1.0],\"title\":{\"text\":\"y\"}},\"legend\":{\"tracegroupgap\":0},\"margin\":{\"t\":60}},                        {\"responsive\": true}                    ).then(function(){\n",
       "                            \n",
       "var gd = document.getElementById('ecc324b4-a863-4b77-bb6f-3ace3a4247bc');\n",
       "var x = new MutationObserver(function (mutations, observer) {{\n",
       "        var display = window.getComputedStyle(gd).display;\n",
       "        if (!display || display === 'none') {{\n",
       "            console.log([gd, 'removed!']);\n",
       "            Plotly.purge(gd);\n",
       "            observer.disconnect();\n",
       "        }}\n",
       "}});\n",
       "\n",
       "// Listen for the removal of the full notebook cells\n",
       "var notebookContainer = gd.closest('#notebook-container');\n",
       "if (notebookContainer) {{\n",
       "    x.observe(notebookContainer, {childList: true});\n",
       "}}\n",
       "\n",
       "// Listen for the clearing of the current output cell\n",
       "var outputEl = gd.closest('.output');\n",
       "if (outputEl) {{\n",
       "    x.observe(outputEl, {childList: true});\n",
       "}}\n",
       "\n",
       "                        })                };                });            </script>        </div>"
      ]
     },
     "metadata": {},
     "output_type": "display_data"
    }
   ],
   "execution_count": 43
  },
  {
   "metadata": {
    "ExecuteTime": {
     "end_time": "2024-05-27T13:15:39.756187Z",
     "start_time": "2024-05-27T13:15:39.745080Z"
    }
   },
   "cell_type": "code",
   "source": [
    "i = \"Rendement aux normes (q/ha)\"\n",
    "list_y = []\n",
    "for i in df.loc[df[\"partie\"]==i,[\"1994\",\"2001\",\"2006\",\"2011\",\"2014\",\"2017\"]].iloc[0]:\n",
    "    list_y.append(i)\n",
    "list_y"
   ],
   "id": "135999746a949dc4",
   "outputs": [
    {
     "data": {
      "text/plain": [
       "[76.0, 89.0, 97.0, 101.0, 103.85185731705717, 100.80195345027191]"
      ]
     },
     "execution_count": 42,
     "metadata": {},
     "output_type": "execute_result"
    }
   ],
   "execution_count": 42
  }
 ],
 "metadata": {
  "kernelspec": {
   "display_name": "Python 3",
   "language": "python",
   "name": "python3"
  },
  "language_info": {
   "codemirror_mode": {
    "name": "ipython",
    "version": 2
   },
   "file_extension": ".py",
   "mimetype": "text/x-python",
   "name": "python",
   "nbconvert_exporter": "python",
   "pygments_lexer": "ipython2",
   "version": "2.7.6"
  }
 },
 "nbformat": 4,
 "nbformat_minor": 5
}
